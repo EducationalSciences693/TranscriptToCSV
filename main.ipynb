{
 "cells": [
  {
   "cell_type": "markdown",
   "id": "bc04ad8f-5128-4ecf-b898-176bc1fca120",
   "metadata": {},
   "source": [
    "# Imports"
   ]
  },
  {
   "cell_type": "code",
   "execution_count": 1,
   "id": "27327f94-18ea-44fb-88c3-97fde501a2ce",
   "metadata": {},
   "outputs": [],
   "source": [
    "using DataFrames\n",
    "using CSV"
   ]
  },
  {
   "cell_type": "markdown",
   "id": "83a283f9-eab7-41cd-a94b-0feabc3946c3",
   "metadata": {},
   "source": [
    "# Metadata Config\n",
    "\n",
    "Here we specify how we want our DataFrame structure to look. Column names begin with a number to force Julia to render them in the order we want when we're done. `LineNo`, `Speaker`, and `Text` will be automatically populated by the loop below. All we have to do here is specify the metadata we have attached to this transcript file. For example, the provided transcript comes from `Session` 8, `Activity` 2, `Group` 1."
   ]
  },
  {
   "cell_type": "code",
   "execution_count": 2,
   "id": "0ae28d66-e640-49cc-b6c8-37afeea298dd",
   "metadata": {},
   "outputs": [
    {
     "data": {
      "text/plain": [
       "Dict{String, Any} with 6 entries:\n",
       "  \"4_LineNo\"   => [1, 2, 3, 4, 5, 6, 7]\n",
       "  \"3_Group\"    => \"#1\"\n",
       "  \"5_Speaker\"  => String[]\n",
       "  \"2_Activity\" => \"#2\"\n",
       "  \"1_Session\"  => \"#8\"\n",
       "  \"6_Text\"     => String[]"
      ]
     },
     "execution_count": 2,
     "metadata": {},
     "output_type": "execute_result"
    }
   ],
   "source": [
    "data = Dict(\n",
    "    \"1_Session\" => \"#8\",\n",
    "    \"2_Activity\" => \"#2\",\n",
    "    \"3_Group\" => \"#1\",\n",
    "    \"4_LineNo\" => collect(1:countlines(\"data/transcript.txt\")),\n",
    "    \"5_Speaker\" => String[],\n",
    "    \"6_Text\" => String[]\n",
    ")"
   ]
  },
  {
   "cell_type": "markdown",
   "id": "157a6e28-99bc-4d12-b72f-510c2b05ff07",
   "metadata": {},
   "source": [
    "# Process Transcript\n",
    "\n",
    "This loop expects the `data/transcript.txt` file to be formatted like:\n",
    "\n",
    "```txt\n",
    ">> Alice: Are we Group 1 or 2? Just the group.\n",
    "\n",
    ">> Beth Anne: One.\n",
    "\n",
    ">> Carol: So should we just like throw up a whiteboard and start trying to like collectively sketch a prototype?\n",
    "\n",
    ">> Alice: Yeah, let's do that. Do we want to do that on Slide 24?\n",
    "```\n",
    "\n",
    "In theory, if you have a different but similar transcript format, it should only take small changes to update the logic below."
   ]
  },
  {
   "cell_type": "code",
   "execution_count": 3,
   "id": "9645cdfb-1785-4de7-a13d-69b4ec1f080b",
   "metadata": {},
   "outputs": [],
   "source": [
    "for line in eachline(\"data/transcript.txt\")\n",
    "    m = match(r\">> (.+)\", line) # Are we starting a new turn of talk? Signified by >> symbols.\n",
    "    if !isnothing(m) # Yes, a new turn of talk.\n",
    "        line = m[1]\n",
    "        speaker = \"UNDEFINED\" # By default, if we can't find a valid speaker name, use UNDEFINED\n",
    "        m = match(r\"([^:]+):\\s*(.*)\", line) # Look for a name between >> and :\n",
    "        if !isnothing(m) # Did we find a name? If so, keep it. Else, leave the default.\n",
    "            speaker = m[1]\n",
    "            line = m[2]\n",
    "        end\n",
    "\n",
    "        # Add the speaker and text to the data structure\n",
    "        push!(data[\"5_Speaker\"], speaker)\n",
    "        push!(data[\"6_Text\"], line)\n",
    "    else # No, the same turn of talk, so just append whatever we find to our previous result.\n",
    "        data[\"6_Text\"][end] *= line\n",
    "        pop!(data[\"4_LineNo\"])\n",
    "    end\n",
    "end"
   ]
  },
  {
   "cell_type": "markdown",
   "id": "75d6b9f0-a89d-4f25-9e64-73c2f271c140",
   "metadata": {},
   "source": [
    "# Save and Output Results\n",
    "\n",
    "Finally, create a DataFrame, write it to disk, and display it here for a preview. Note, `data/output.csv` is ignored in the `.gitignore` to prevent accidentally pushing non-anonymized data to github."
   ]
  },
  {
   "cell_type": "code",
   "execution_count": 4,
   "id": "f6dc0b07-cfb4-40ac-bb24-3353139e236d",
   "metadata": {},
   "outputs": [
    {
     "data": {
      "text/html": [
       "<div class=\"data-frame\"><p>4 rows × 6 columns</p><table class=\"data-frame\"><thead><tr><th></th><th>1_Session</th><th>2_Activity</th><th>3_Group</th><th>4_LineNo</th><th>5_Speaker</th><th>6_Text</th></tr><tr><th></th><th title=\"String\">String</th><th title=\"String\">String</th><th title=\"String\">String</th><th title=\"Int64\">Int64</th><th title=\"String\">String</th><th title=\"String\">String</th></tr></thead><tbody><tr><th>1</th><td>#8</td><td>#2</td><td>#1</td><td>1</td><td>Alice</td><td>Are we Group 1 or 2? Just the group.</td></tr><tr><th>2</th><td>#8</td><td>#2</td><td>#1</td><td>2</td><td>Beth Anne</td><td>One.</td></tr><tr><th>3</th><td>#8</td><td>#2</td><td>#1</td><td>3</td><td>Carol</td><td>So should we just like throw up a whiteboard and start trying to like collectively sketch a prototype?</td></tr><tr><th>4</th><td>#8</td><td>#2</td><td>#1</td><td>4</td><td>Alice</td><td>Yeah, let&apos;s do that. Do we want to do that on Slide 24?</td></tr></tbody></table></div>"
      ],
      "text/latex": [
       "\\begin{tabular}{r|cccccc}\n",
       "\t& 1\\_Session & 2\\_Activity & 3\\_Group & 4\\_LineNo & 5\\_Speaker & 6\\_Text\\\\\n",
       "\t\\hline\n",
       "\t& String & String & String & Int64 & String & String\\\\\n",
       "\t\\hline\n",
       "\t1 & \\#8 & \\#2 & \\#1 & 1 & Alice & Are we Group 1 or 2? Just the group. \\\\\n",
       "\t2 & \\#8 & \\#2 & \\#1 & 2 & Beth Anne & One. \\\\\n",
       "\t3 & \\#8 & \\#2 & \\#1 & 3 & Carol & So should we just like throw up a whiteboard and start trying to like collectively sketch a prototype? \\\\\n",
       "\t4 & \\#8 & \\#2 & \\#1 & 4 & Alice & Yeah, let's do that. Do we want to do that on Slide 24? \\\\\n",
       "\\end{tabular}\n"
      ],
      "text/plain": [
       "\u001b[1m4×6 DataFrame\u001b[0m\n",
       "\u001b[1m Row \u001b[0m│\u001b[1m 1_Session \u001b[0m\u001b[1m 2_Activity \u001b[0m\u001b[1m 3_Group \u001b[0m\u001b[1m 4_LineNo \u001b[0m\u001b[1m 5_Speaker \u001b[0m\u001b[1m 6_Text            \u001b[0m ⋯\n",
       "\u001b[1m     \u001b[0m│\u001b[90m String    \u001b[0m\u001b[90m String     \u001b[0m\u001b[90m String  \u001b[0m\u001b[90m Int64    \u001b[0m\u001b[90m String    \u001b[0m\u001b[90m String            \u001b[0m ⋯\n",
       "─────┼──────────────────────────────────────────────────────────────────────────\n",
       "   1 │ #8         #2          #1              1  Alice      Are we Group 1 or  ⋯\n",
       "   2 │ #8         #2          #1              2  Beth Anne  One.\n",
       "   3 │ #8         #2          #1              3  Carol      So should we just\n",
       "   4 │ #8         #2          #1              4  Alice      Yeah, let's do tha\n",
       "\u001b[36m                                                                1 column omitted\u001b[0m"
      ]
     },
     "metadata": {},
     "output_type": "display_data"
    }
   ],
   "source": [
    "data = DataFrame(data)\n",
    "CSV.write(\"data/output.csv\", data, delim=\"\\t\")\n",
    "display(data)"
   ]
  }
 ],
 "metadata": {
  "kernelspec": {
   "display_name": "Julia 1.7.0",
   "language": "julia",
   "name": "julia-1.7"
  },
  "language_info": {
   "file_extension": ".jl",
   "mimetype": "application/julia",
   "name": "julia",
   "version": "1.7.0"
  }
 },
 "nbformat": 4,
 "nbformat_minor": 5
}
